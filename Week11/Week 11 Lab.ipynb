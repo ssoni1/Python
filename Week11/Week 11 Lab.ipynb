{
 "cells": [
  {
   "cell_type": "markdown",
   "id": "03716f5c",
   "metadata": {},
   "source": [
    "<h1><b> Week11 Lab </h1>"
   ]
  },
  {
   "cell_type": "markdown",
   "id": "7d60befe",
   "metadata": {},
   "source": [
    "Write a ArrayList class for a basic replacement of list type. It should have the following methods. When you add 2 instances of this type, it should add side by side like pandas Series"
   ]
  },
  {
   "cell_type": "markdown",
   "id": "874bd193",
   "metadata": {},
   "source": [
    "<ul>\n",
    "    <li>Append</li>\n",
    "    <li>Clear</li>\n",
    "    <li>__getitem__</li>\n",
    "    <li>__add__</li>\n",
    "</ul>"
   ]
  },
  {
   "cell_type": "code",
   "execution_count": 23,
   "id": "b46a3da2",
   "metadata": {},
   "outputs": [
    {
     "data": {
      "text/plain": [
       "[1, 2, 1, 2]"
      ]
     },
     "execution_count": 23,
     "metadata": {},
     "output_type": "execute_result"
    }
   ],
   "source": [
    "[1,2] + [1,2]"
   ]
  },
  {
   "cell_type": "code",
   "execution_count": 34,
   "id": "97c33d3c",
   "metadata": {},
   "outputs": [],
   "source": [
    "class ArrayList:\n",
    "    def __init__(self):\n",
    "        self.arr=[]\n",
    "        \n",
    "    def append(self,value):\n",
    "        self.arr.append(value)\n",
    "        \n",
    "    def clear(self):\n",
    "        self.arr.clear()\n",
    "        \n",
    "    def __len__(self):\n",
    "        return len(self.arr)\n",
    "    \n",
    "    def __getitem__(self, ix):\n",
    "        return self.arr[ix]\n",
    "    \n",
    "    def __add__(self,other):\n",
    "        if len(self.arr) != len(other):\n",
    "            raise ValueError('NOT SAME LENGHT')\n",
    "            \n",
    "        obj = ArrayList()\n",
    "        for x,y in zip(self.arr , other.arr):\n",
    "            obj.append(x + y)\n",
    "        return obj\n",
    "    \n",
    "    def __repr__(self):\n",
    "        return str(self.arr)"
   ]
  },
  {
   "cell_type": "code",
   "execution_count": 35,
   "id": "bc65473e",
   "metadata": {},
   "outputs": [],
   "source": [
    "ol = ArrayList()"
   ]
  },
  {
   "cell_type": "code",
   "execution_count": 36,
   "id": "640e8f55",
   "metadata": {},
   "outputs": [],
   "source": [
    "ol.append(1)\n",
    "ol.append(2)"
   ]
  },
  {
   "cell_type": "code",
   "execution_count": 37,
   "id": "cb08831d",
   "metadata": {},
   "outputs": [
    {
     "data": {
      "text/plain": [
       "1"
      ]
     },
     "execution_count": 37,
     "metadata": {},
     "output_type": "execute_result"
    }
   ],
   "source": [
    "ol[0]"
   ]
  },
  {
   "cell_type": "code",
   "execution_count": 38,
   "id": "f1487381",
   "metadata": {},
   "outputs": [],
   "source": [
    "o2 = ArrayList()\n",
    "o2.append(3)\n",
    "o2.append(4)"
   ]
  },
  {
   "cell_type": "code",
   "execution_count": 39,
   "id": "df6b0d4b",
   "metadata": {},
   "outputs": [
    {
     "data": {
      "text/plain": [
       "[1, 2]"
      ]
     },
     "execution_count": 39,
     "metadata": {},
     "output_type": "execute_result"
    }
   ],
   "source": [
    "ol"
   ]
  },
  {
   "cell_type": "code",
   "execution_count": 40,
   "id": "857d3696",
   "metadata": {},
   "outputs": [
    {
     "data": {
      "text/plain": [
       "[3, 4]"
      ]
     },
     "execution_count": 40,
     "metadata": {},
     "output_type": "execute_result"
    }
   ],
   "source": [
    "o2"
   ]
  },
  {
   "cell_type": "code",
   "execution_count": 41,
   "id": "c0fde738",
   "metadata": {},
   "outputs": [
    {
     "data": {
      "text/plain": [
       "[4, 6]"
      ]
     },
     "execution_count": 41,
     "metadata": {},
     "output_type": "execute_result"
    }
   ],
   "source": [
    "ol + o2"
   ]
  },
  {
   "cell_type": "code",
   "execution_count": 43,
   "id": "bcda1a11",
   "metadata": {},
   "outputs": [],
   "source": [
    "ol.clear()"
   ]
  },
  {
   "cell_type": "code",
   "execution_count": 45,
   "id": "558cc911",
   "metadata": {},
   "outputs": [
    {
     "data": {
      "text/plain": [
       "[3, 4]"
      ]
     },
     "execution_count": 45,
     "metadata": {},
     "output_type": "execute_result"
    }
   ],
   "source": [
    "o2"
   ]
  },
  {
   "cell_type": "code",
   "execution_count": null,
   "id": "9d7f5e39",
   "metadata": {},
   "outputs": [],
   "source": []
  }
 ],
 "metadata": {
  "kernelspec": {
   "display_name": "Python 3",
   "language": "python",
   "name": "python3"
  },
  "language_info": {
   "codemirror_mode": {
    "name": "ipython",
    "version": 3
   },
   "file_extension": ".py",
   "mimetype": "text/x-python",
   "name": "python",
   "nbconvert_exporter": "python",
   "pygments_lexer": "ipython3",
   "version": "3.8.8"
  }
 },
 "nbformat": 4,
 "nbformat_minor": 5
}
