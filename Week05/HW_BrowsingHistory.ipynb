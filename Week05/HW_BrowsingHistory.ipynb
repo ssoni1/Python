{
 "cells": [
  {
   "cell_type": "code",
   "execution_count": 1,
   "id": "25d0f40d",
   "metadata": {},
   "outputs": [],
   "source": [
    "# !pip install browserhistory"
   ]
  },
  {
   "cell_type": "code",
   "execution_count": 2,
   "id": "bd133c81",
   "metadata": {},
   "outputs": [],
   "source": [
    "# import browserhistory as bh"
   ]
  },
  {
   "cell_type": "code",
   "execution_count": 3,
   "id": "b697c46d",
   "metadata": {},
   "outputs": [],
   "source": [
    "# dict_obj = bh.get_browserhistory()\n",
    "# bh.write_browserhistory_csv()"
   ]
  },
  {
   "cell_type": "code",
   "execution_count": 4,
   "id": "e2a65fdb",
   "metadata": {},
   "outputs": [],
   "source": [
    "import pandas as pd"
   ]
  },
  {
   "cell_type": "code",
   "execution_count": 5,
   "id": "0d095f39",
   "metadata": {},
   "outputs": [],
   "source": [
    "#df.head()"
   ]
  },
  {
   "cell_type": "code",
   "execution_count": 6,
   "id": "3282826f",
   "metadata": {},
   "outputs": [],
   "source": [
    "df = pd.read_csv('history.csv', header=None, names=['date','Time', 'Title'])"
   ]
  },
  {
   "cell_type": "code",
   "execution_count": 7,
   "id": "fc25afff",
   "metadata": {},
   "outputs": [
    {
     "data": {
      "text/html": [
       "<div>\n",
       "<style scoped>\n",
       "    .dataframe tbody tr th:only-of-type {\n",
       "        vertical-align: middle;\n",
       "    }\n",
       "\n",
       "    .dataframe tbody tr th {\n",
       "        vertical-align: top;\n",
       "    }\n",
       "\n",
       "    .dataframe thead th {\n",
       "        text-align: right;\n",
       "    }\n",
       "</style>\n",
       "<table border=\"1\" class=\"dataframe\">\n",
       "  <thead>\n",
       "    <tr style=\"text-align: right;\">\n",
       "      <th></th>\n",
       "      <th>date</th>\n",
       "      <th>Time</th>\n",
       "      <th>Title</th>\n",
       "    </tr>\n",
       "  </thead>\n",
       "  <tbody>\n",
       "    <tr>\n",
       "      <th>0</th>\n",
       "      <td>2021-10-02</td>\n",
       "      <td>17:27:19</td>\n",
       "      <td>https://chrome.google.com/webstore/detail/expo...</td>\n",
       "    </tr>\n",
       "    <tr>\n",
       "      <th>1</th>\n",
       "      <td>2021-10-02</td>\n",
       "      <td>17:26:24</td>\n",
       "      <td>https://chrome.google.com/webstore/detail/expo...</td>\n",
       "    </tr>\n",
       "    <tr>\n",
       "      <th>2</th>\n",
       "      <td>2021-10-02</td>\n",
       "      <td>17:26:12</td>\n",
       "      <td>https://www.google.com/search?q=download+chrom...</td>\n",
       "    </tr>\n",
       "    <tr>\n",
       "      <th>3</th>\n",
       "      <td>2021-10-02</td>\n",
       "      <td>17:26:08</td>\n",
       "      <td>https://www.google.com/search?q=download+chrom...</td>\n",
       "    </tr>\n",
       "    <tr>\n",
       "      <th>4</th>\n",
       "      <td>2021-10-02</td>\n",
       "      <td>17:23:31</td>\n",
       "      <td>http://localhost:8888/notebooks/OneDrive/Docum...</td>\n",
       "    </tr>\n",
       "  </tbody>\n",
       "</table>\n",
       "</div>"
      ],
      "text/plain": [
       "         date      Time                                              Title\n",
       "0  2021-10-02  17:27:19  https://chrome.google.com/webstore/detail/expo...\n",
       "1  2021-10-02  17:26:24  https://chrome.google.com/webstore/detail/expo...\n",
       "2  2021-10-02  17:26:12  https://www.google.com/search?q=download+chrom...\n",
       "3  2021-10-02  17:26:08  https://www.google.com/search?q=download+chrom...\n",
       "4  2021-10-02  17:23:31  http://localhost:8888/notebooks/OneDrive/Docum..."
      ]
     },
     "execution_count": 7,
     "metadata": {},
     "output_type": "execute_result"
    }
   ],
   "source": [
    "df.head()"
   ]
  },
  {
   "cell_type": "code",
   "execution_count": 11,
   "id": "e8296703",
   "metadata": {},
   "outputs": [],
   "source": [
    "df[\"Time\"]=pd.to_datetime(df['date'] +' '+ df['Time'])"
   ]
  },
  {
   "cell_type": "code",
   "execution_count": 12,
   "id": "3a58ee44",
   "metadata": {},
   "outputs": [
    {
     "data": {
      "text/html": [
       "<div>\n",
       "<style scoped>\n",
       "    .dataframe tbody tr th:only-of-type {\n",
       "        vertical-align: middle;\n",
       "    }\n",
       "\n",
       "    .dataframe tbody tr th {\n",
       "        vertical-align: top;\n",
       "    }\n",
       "\n",
       "    .dataframe thead th {\n",
       "        text-align: right;\n",
       "    }\n",
       "</style>\n",
       "<table border=\"1\" class=\"dataframe\">\n",
       "  <thead>\n",
       "    <tr style=\"text-align: right;\">\n",
       "      <th></th>\n",
       "      <th>date</th>\n",
       "      <th>Time</th>\n",
       "      <th>Title</th>\n",
       "    </tr>\n",
       "  </thead>\n",
       "  <tbody>\n",
       "    <tr>\n",
       "      <th>0</th>\n",
       "      <td>2021-10-02</td>\n",
       "      <td>2021-10-02 17:27:19</td>\n",
       "      <td>https://chrome.google.com/webstore/detail/expo...</td>\n",
       "    </tr>\n",
       "    <tr>\n",
       "      <th>1</th>\n",
       "      <td>2021-10-02</td>\n",
       "      <td>2021-10-02 17:26:24</td>\n",
       "      <td>https://chrome.google.com/webstore/detail/expo...</td>\n",
       "    </tr>\n",
       "    <tr>\n",
       "      <th>2</th>\n",
       "      <td>2021-10-02</td>\n",
       "      <td>2021-10-02 17:26:12</td>\n",
       "      <td>https://www.google.com/search?q=download+chrom...</td>\n",
       "    </tr>\n",
       "    <tr>\n",
       "      <th>3</th>\n",
       "      <td>2021-10-02</td>\n",
       "      <td>2021-10-02 17:26:08</td>\n",
       "      <td>https://www.google.com/search?q=download+chrom...</td>\n",
       "    </tr>\n",
       "    <tr>\n",
       "      <th>4</th>\n",
       "      <td>2021-10-02</td>\n",
       "      <td>2021-10-02 17:23:31</td>\n",
       "      <td>http://localhost:8888/notebooks/OneDrive/Docum...</td>\n",
       "    </tr>\n",
       "  </tbody>\n",
       "</table>\n",
       "</div>"
      ],
      "text/plain": [
       "         date                Time  \\\n",
       "0  2021-10-02 2021-10-02 17:27:19   \n",
       "1  2021-10-02 2021-10-02 17:26:24   \n",
       "2  2021-10-02 2021-10-02 17:26:12   \n",
       "3  2021-10-02 2021-10-02 17:26:08   \n",
       "4  2021-10-02 2021-10-02 17:23:31   \n",
       "\n",
       "                                               Title  \n",
       "0  https://chrome.google.com/webstore/detail/expo...  \n",
       "1  https://chrome.google.com/webstore/detail/expo...  \n",
       "2  https://www.google.com/search?q=download+chrom...  \n",
       "3  https://www.google.com/search?q=download+chrom...  \n",
       "4  http://localhost:8888/notebooks/OneDrive/Docum...  "
      ]
     },
     "execution_count": 12,
     "metadata": {},
     "output_type": "execute_result"
    }
   ],
   "source": [
    "#df.drop('date', axis=1, inplace=True)"
   ]
  },
  {
   "cell_type": "code",
   "execution_count": 13,
   "id": "147a033c",
   "metadata": {},
   "outputs": [
    {
     "data": {
      "text/plain": [
       "date     0\n",
       "Time     0\n",
       "Title    0\n",
       "dtype: int64"
      ]
     },
     "execution_count": 13,
     "metadata": {},
     "output_type": "execute_result"
    }
   ],
   "source": [
    "df.isna().sum()"
   ]
  },
  {
   "cell_type": "code",
   "execution_count": 14,
   "id": "fe7cf765",
   "metadata": {},
   "outputs": [
    {
     "name": "stdout",
     "output_type": "stream",
     "text": [
      "www.example.test\n",
      "www.test.com.eu\n"
     ]
    }
   ],
   "source": [
    "from urllib.parse import urlparse\n",
    "\n",
    "print(urlparse('http://www.example.test/foo/bar').netloc) # --> www.example.test\n",
    "print(urlparse('http://www.test.com.eu/ters').netloc) # --> www.example.test"
   ]
  },
  {
   "cell_type": "code",
   "execution_count": 15,
   "id": "49de96f0",
   "metadata": {},
   "outputs": [],
   "source": [
    "def get_domain(url):\n",
    "    domain = urlparse(url).netloc\n",
    " \n",
    "    return domain\n",
    "        "
   ]
  },
  {
   "cell_type": "code",
   "execution_count": 17,
   "id": "04e74295",
   "metadata": {},
   "outputs": [],
   "source": [
    "df['domain'] = [ get_domain(s)  for s in df['Title'] ]"
   ]
  },
  {
   "cell_type": "code",
   "execution_count": null,
   "id": "a2eaf29a",
   "metadata": {},
   "outputs": [],
   "source": [
    "df.drop('Site', axis=1, inplace=True) # drop Site column & update the current df object\n",
    "df.drop('Title', axis=1, inplace=True) # drop Site column & update the current df object"
   ]
  },
  {
   "cell_type": "code",
   "execution_count": 18,
   "id": "f3008825",
   "metadata": {
    "scrolled": true
   },
   "outputs": [
    {
     "data": {
      "text/plain": [
       "0         chrome.google.com\n",
       "1         chrome.google.com\n",
       "2            www.google.com\n",
       "3            www.google.com\n",
       "4            localhost:8888\n",
       "               ...         \n",
       "3835      www.grammarly.com\n",
       "3836    accounts.google.com\n",
       "3837    accounts.google.com\n",
       "3838    accounts.google.com\n",
       "3839    accounts.google.com\n",
       "Name: domain, Length: 3840, dtype: object"
      ]
     },
     "execution_count": 18,
     "metadata": {},
     "output_type": "execute_result"
    }
   ],
   "source": [
    "df['domain']"
   ]
  },
  {
   "cell_type": "code",
   "execution_count": 19,
   "id": "da4d452f",
   "metadata": {},
   "outputs": [],
   "source": [
    "df.drop('date', axis=1, inplace=True)"
   ]
  },
  {
   "cell_type": "code",
   "execution_count": 20,
   "id": "49c2259e",
   "metadata": {},
   "outputs": [
    {
     "data": {
      "text/html": [
       "<div>\n",
       "<style scoped>\n",
       "    .dataframe tbody tr th:only-of-type {\n",
       "        vertical-align: middle;\n",
       "    }\n",
       "\n",
       "    .dataframe tbody tr th {\n",
       "        vertical-align: top;\n",
       "    }\n",
       "\n",
       "    .dataframe thead th {\n",
       "        text-align: right;\n",
       "    }\n",
       "</style>\n",
       "<table border=\"1\" class=\"dataframe\">\n",
       "  <thead>\n",
       "    <tr style=\"text-align: right;\">\n",
       "      <th></th>\n",
       "      <th>Time</th>\n",
       "      <th>Title</th>\n",
       "      <th>domain</th>\n",
       "    </tr>\n",
       "  </thead>\n",
       "  <tbody>\n",
       "    <tr>\n",
       "      <th>0</th>\n",
       "      <td>2021-10-02 17:27:19</td>\n",
       "      <td>https://chrome.google.com/webstore/detail/expo...</td>\n",
       "      <td>chrome.google.com</td>\n",
       "    </tr>\n",
       "    <tr>\n",
       "      <th>1</th>\n",
       "      <td>2021-10-02 17:26:24</td>\n",
       "      <td>https://chrome.google.com/webstore/detail/expo...</td>\n",
       "      <td>chrome.google.com</td>\n",
       "    </tr>\n",
       "    <tr>\n",
       "      <th>2</th>\n",
       "      <td>2021-10-02 17:26:12</td>\n",
       "      <td>https://www.google.com/search?q=download+chrom...</td>\n",
       "      <td>www.google.com</td>\n",
       "    </tr>\n",
       "    <tr>\n",
       "      <th>3</th>\n",
       "      <td>2021-10-02 17:26:08</td>\n",
       "      <td>https://www.google.com/search?q=download+chrom...</td>\n",
       "      <td>www.google.com</td>\n",
       "    </tr>\n",
       "    <tr>\n",
       "      <th>4</th>\n",
       "      <td>2021-10-02 17:23:31</td>\n",
       "      <td>http://localhost:8888/notebooks/OneDrive/Docum...</td>\n",
       "      <td>localhost:8888</td>\n",
       "    </tr>\n",
       "  </tbody>\n",
       "</table>\n",
       "</div>"
      ],
      "text/plain": [
       "                 Time                                              Title  \\\n",
       "0 2021-10-02 17:27:19  https://chrome.google.com/webstore/detail/expo...   \n",
       "1 2021-10-02 17:26:24  https://chrome.google.com/webstore/detail/expo...   \n",
       "2 2021-10-02 17:26:12  https://www.google.com/search?q=download+chrom...   \n",
       "3 2021-10-02 17:26:08  https://www.google.com/search?q=download+chrom...   \n",
       "4 2021-10-02 17:23:31  http://localhost:8888/notebooks/OneDrive/Docum...   \n",
       "\n",
       "              domain  \n",
       "0  chrome.google.com  \n",
       "1  chrome.google.com  \n",
       "2     www.google.com  \n",
       "3     www.google.com  \n",
       "4     localhost:8888  "
      ]
     },
     "execution_count": 20,
     "metadata": {},
     "output_type": "execute_result"
    }
   ],
   "source": [
    "df.head()"
   ]
  },
  {
   "cell_type": "code",
   "execution_count": 22,
   "id": "3bbbebc7",
   "metadata": {},
   "outputs": [],
   "source": [
    "df.drop('Title', axis=1, inplace=True)"
   ]
  },
  {
   "cell_type": "code",
   "execution_count": 24,
   "id": "c9c96c44",
   "metadata": {},
   "outputs": [],
   "source": [
    "df.to_csv('history_cleansed.csv', index=False)"
   ]
  }
 ],
 "metadata": {
  "kernelspec": {
   "display_name": "Python 3 (ipykernel)",
   "language": "python",
   "name": "python3"
  },
  "language_info": {
   "codemirror_mode": {
    "name": "ipython",
    "version": 3
   },
   "file_extension": ".py",
   "mimetype": "text/x-python",
   "name": "python",
   "nbconvert_exporter": "python",
   "pygments_lexer": "ipython3",
   "version": "3.8.8"
  }
 },
 "nbformat": 4,
 "nbformat_minor": 5
}
