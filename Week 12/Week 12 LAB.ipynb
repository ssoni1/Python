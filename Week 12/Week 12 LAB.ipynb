{
 "cells": [
  {
   "cell_type": "markdown",
   "id": "c0ebd9ff",
   "metadata": {},
   "source": [
    "# Week12 Lab\n",
    "\n",
    "Scrape the information from the following website: https://www.scrapethissite.com/pages/simple/ \n",
    "show the values in a dataframe"
   ]
  },
  {
   "cell_type": "code",
   "execution_count": 14,
   "id": "8f868978",
   "metadata": {},
   "outputs": [],
   "source": [
    "import pandas as pd\n",
    "from bs4 import BeautifulSoup\n",
    "import requests"
   ]
  },
  {
   "cell_type": "code",
   "execution_count": 15,
   "id": "cb5683b5",
   "metadata": {},
   "outputs": [
    {
     "data": {
      "text/plain": [
       "True"
      ]
     },
     "execution_count": 15,
     "metadata": {},
     "output_type": "execute_result"
    }
   ],
   "source": [
    "response = requests.get('https://raw.githubusercontent.com/msaricaumbc/DS601_Fall21/main/Week12/data/data.html')\n",
    "response.ok"
   ]
  },
  {
   "cell_type": "code",
   "execution_count": 16,
   "id": "2b33c38d",
   "metadata": {},
   "outputs": [
    {
     "data": {
      "text/plain": [
       "'<!doctype html>\\n<html lang=\"en\"> \\n <head> \\n  <meta charset=\"utf-8\"> \\n  <title>Countries of the World: A Simple Example | Scrape This Site | A public sandbox for learning web scraping</title> \\n  <link rel=\"icon\" type=\"image/png\" href=\"/static/images/scraper-icon.png\"> \\n  <meta name=\"viewport\" content=\"width=device-width, initial-scale=1.0\"> \\n  <meta name=\"description\" content=\"A single page that lists information about all the countries in the world. Good for those just get started with web scraping.\"> \\n  <link href=\"https://maxcdn.bootstrapcdn.com/bootstrap/3.3.5/css/bootstrap.min.css\" rel=\"stylesheet\" integrity=\"sha256-MfvZlkHCEqatNoGiOXveE8FIwMzZg4W85qfrfIFBfYc= sha512-dTfge/zgoMYpP7QbHy4gWMEGsbsdZeCXz7irItjcC3sPUFtf0kuFbDz/ixG7ArTxmDjLXDmezHubeNikyKGVyQ==\" crossorigin=\"anonymous\"> \\n  <link href=\"\\\\\\'https://fonts.googleapis.com/css?family=Lato:400,700\\\\\\'\" rel=\"\\\\\\'stylesheet\\\\\\'\" type=\"\\\\\\'text/css\\\\\\'\"> \\n  <link rel=\"stylesheet\" type=\"text/css\" href=\"/static/css/styles.css\"> \\n  <meta name=\"ro'"
      ]
     },
     "execution_count": 16,
     "metadata": {},
     "output_type": "execute_result"
    }
   ],
   "source": [
    "response.text[:1000]"
   ]
  },
  {
   "cell_type": "code",
   "execution_count": 17,
   "id": "624ec5e5",
   "metadata": {},
   "outputs": [],
   "source": [
    "html_doc = response.text"
   ]
  },
  {
   "cell_type": "code",
   "execution_count": 18,
   "id": "72bc1d16",
   "metadata": {},
   "outputs": [],
   "source": [
    "soup = BeautifulSoup(html_doc, 'html.parser')"
   ]
  },
  {
   "cell_type": "code",
   "execution_count": 19,
   "id": "45560abc",
   "metadata": {},
   "outputs": [
    {
     "data": {
      "text/plain": [
       "<div class=\"col-md-4 country\">\n",
       "<h3 class=\"country-name\"> <i class=\"flag-icon flag-icon-ad\"></i> Andorra </h3>\n",
       "<div class=\"country-info\"> <strong>Capital:</strong> <span class=\"country-capital\">Andorra la Vella</span>\n",
       "<br/> <strong>Population:</strong> <span class=\"country-population\">84000</span>\n",
       "<br/> <strong>Area (km<sup>2</sup>):</strong> <span class=\"country-area\">468.0</span>\n",
       "<br/>\n",
       "</div>\n",
       "</div>"
      ]
     },
     "execution_count": 19,
     "metadata": {},
     "output_type": "execute_result"
    }
   ],
   "source": [
    "t = soup.find_all('div', {\"class\":\"col-md-4 country\"})\n",
    "\n",
    "\n",
    "t[0]"
   ]
  },
  {
   "cell_type": "code",
   "execution_count": 20,
   "id": "ff9ec63e",
   "metadata": {},
   "outputs": [
    {
     "data": {
      "text/plain": [
       "'  Andorra '"
      ]
     },
     "execution_count": 20,
     "metadata": {},
     "output_type": "execute_result"
    }
   ],
   "source": [
    "t[0].h3.text"
   ]
  },
  {
   "cell_type": "code",
   "execution_count": 21,
   "id": "83e4fec1",
   "metadata": {},
   "outputs": [
    {
     "data": {
      "text/plain": [
       "'Andorra la Vella'"
      ]
     },
     "execution_count": 21,
     "metadata": {},
     "output_type": "execute_result"
    }
   ],
   "source": [
    "t[0].find_all('span')[0].text"
   ]
  },
  {
   "cell_type": "code",
   "execution_count": 22,
   "id": "3b85785a",
   "metadata": {},
   "outputs": [
    {
     "data": {
      "text/plain": [
       "'84000'"
      ]
     },
     "execution_count": 22,
     "metadata": {},
     "output_type": "execute_result"
    }
   ],
   "source": [
    "t[0].find_all('span')[1].text"
   ]
  },
  {
   "cell_type": "code",
   "execution_count": 23,
   "id": "38a875ae",
   "metadata": {},
   "outputs": [
    {
     "data": {
      "text/plain": [
       "'468.0'"
      ]
     },
     "execution_count": 23,
     "metadata": {},
     "output_type": "execute_result"
    }
   ],
   "source": [
    "t[0].find_all('span')[2].text"
   ]
  },
  {
   "cell_type": "code",
   "execution_count": 24,
   "id": "fb7e6216",
   "metadata": {},
   "outputs": [
    {
     "data": {
      "text/plain": [
       "('United Arab Emirates', 'Abu Dhabi', '4975593', '82880.0')"
      ]
     },
     "execution_count": 24,
     "metadata": {},
     "output_type": "execute_result"
    }
   ],
   "source": [
    "def extract_values(v):\n",
    "    \n",
    "    country = v.h3.text.strip()\n",
    "    \n",
    "    spans = v.find_all('span')\n",
    "    capital = spans[0].text\n",
    "    population = spans[1].text\n",
    "    area = spans[2].text\n",
    "    \n",
    "    \n",
    "    return country,capital,population,area\n",
    "\n",
    "extract_values(t[1])"
   ]
  },
  {
   "cell_type": "code",
   "execution_count": 25,
   "id": "b9c622c5",
   "metadata": {},
   "outputs": [],
   "source": [
    "country= []\n",
    "capital = []\n",
    "population = []\n",
    "area = []\n",
    "\n",
    "for i in range(len(t)):\n",
    "    country.append(extract_values(t[i])[0])\n",
    "    capital.append(extract_values(t[i])[1])\n",
    "    population.append(extract_values(t[i])[2])\n",
    "    area.append(extract_values(t[i])[3])\n",
    "    \n",
    "    \n",
    "\n"
   ]
  },
  {
   "cell_type": "code",
   "execution_count": 27,
   "id": "7bf13403",
   "metadata": {},
   "outputs": [
    {
     "data": {
      "text/html": [
       "<div>\n",
       "<style scoped>\n",
       "    .dataframe tbody tr th:only-of-type {\n",
       "        vertical-align: middle;\n",
       "    }\n",
       "\n",
       "    .dataframe tbody tr th {\n",
       "        vertical-align: top;\n",
       "    }\n",
       "\n",
       "    .dataframe thead th {\n",
       "        text-align: right;\n",
       "    }\n",
       "</style>\n",
       "<table border=\"1\" class=\"dataframe\">\n",
       "  <thead>\n",
       "    <tr style=\"text-align: right;\">\n",
       "      <th></th>\n",
       "      <th>country</th>\n",
       "      <th>capital</th>\n",
       "      <th>population</th>\n",
       "      <th>area</th>\n",
       "    </tr>\n",
       "  </thead>\n",
       "  <tbody>\n",
       "    <tr>\n",
       "      <th>0</th>\n",
       "      <td>Andorra</td>\n",
       "      <td>Andorra la Vella</td>\n",
       "      <td>84000</td>\n",
       "      <td>468.0</td>\n",
       "    </tr>\n",
       "    <tr>\n",
       "      <th>1</th>\n",
       "      <td>United Arab Emirates</td>\n",
       "      <td>Abu Dhabi</td>\n",
       "      <td>4975593</td>\n",
       "      <td>82880.0</td>\n",
       "    </tr>\n",
       "    <tr>\n",
       "      <th>2</th>\n",
       "      <td>Afghanistan</td>\n",
       "      <td>Kabul</td>\n",
       "      <td>29121286</td>\n",
       "      <td>647500.0</td>\n",
       "    </tr>\n",
       "    <tr>\n",
       "      <th>3</th>\n",
       "      <td>Antigua and Barbuda</td>\n",
       "      <td>St. John's</td>\n",
       "      <td>86754</td>\n",
       "      <td>443.0</td>\n",
       "    </tr>\n",
       "    <tr>\n",
       "      <th>4</th>\n",
       "      <td>Anguilla</td>\n",
       "      <td>The Valley</td>\n",
       "      <td>13254</td>\n",
       "      <td>102.0</td>\n",
       "    </tr>\n",
       "    <tr>\n",
       "      <th>...</th>\n",
       "      <td>...</td>\n",
       "      <td>...</td>\n",
       "      <td>...</td>\n",
       "      <td>...</td>\n",
       "    </tr>\n",
       "    <tr>\n",
       "      <th>245</th>\n",
       "      <td>Yemen</td>\n",
       "      <td>Sanaa</td>\n",
       "      <td>23495361</td>\n",
       "      <td>527970.0</td>\n",
       "    </tr>\n",
       "    <tr>\n",
       "      <th>246</th>\n",
       "      <td>Mayotte</td>\n",
       "      <td>Mamoudzou</td>\n",
       "      <td>159042</td>\n",
       "      <td>374.0</td>\n",
       "    </tr>\n",
       "    <tr>\n",
       "      <th>247</th>\n",
       "      <td>South Africa</td>\n",
       "      <td>Pretoria</td>\n",
       "      <td>49000000</td>\n",
       "      <td>1219912.0</td>\n",
       "    </tr>\n",
       "    <tr>\n",
       "      <th>248</th>\n",
       "      <td>Zambia</td>\n",
       "      <td>Lusaka</td>\n",
       "      <td>13460305</td>\n",
       "      <td>752614.0</td>\n",
       "    </tr>\n",
       "    <tr>\n",
       "      <th>249</th>\n",
       "      <td>Zimbabwe</td>\n",
       "      <td>Harare</td>\n",
       "      <td>11651858</td>\n",
       "      <td>390580.0</td>\n",
       "    </tr>\n",
       "  </tbody>\n",
       "</table>\n",
       "<p>250 rows × 4 columns</p>\n",
       "</div>"
      ],
      "text/plain": [
       "                  country           capital population       area\n",
       "0                 Andorra  Andorra la Vella      84000      468.0\n",
       "1    United Arab Emirates         Abu Dhabi    4975593    82880.0\n",
       "2             Afghanistan             Kabul   29121286   647500.0\n",
       "3     Antigua and Barbuda        St. John's      86754      443.0\n",
       "4                Anguilla        The Valley      13254      102.0\n",
       "..                    ...               ...        ...        ...\n",
       "245                 Yemen             Sanaa   23495361   527970.0\n",
       "246               Mayotte         Mamoudzou     159042      374.0\n",
       "247          South Africa          Pretoria   49000000  1219912.0\n",
       "248                Zambia            Lusaka   13460305   752614.0\n",
       "249              Zimbabwe            Harare   11651858   390580.0\n",
       "\n",
       "[250 rows x 4 columns]"
      ]
     },
     "execution_count": 27,
     "metadata": {},
     "output_type": "execute_result"
    }
   ],
   "source": [
    "df = pd.DataFrame(columns =['country', 'capital', 'population','area'])\n",
    "df['country'] = country\n",
    "df['capital'] = capital\n",
    "df['population'] = population\n",
    "df['area'] = area\n",
    "df"
   ]
  },
  {
   "cell_type": "code",
   "execution_count": null,
   "id": "6574aad5",
   "metadata": {},
   "outputs": [],
   "source": []
  }
 ],
 "metadata": {
  "kernelspec": {
   "display_name": "Python 3",
   "language": "python",
   "name": "python3"
  },
  "language_info": {
   "codemirror_mode": {
    "name": "ipython",
    "version": 3
   },
   "file_extension": ".py",
   "mimetype": "text/x-python",
   "name": "python",
   "nbconvert_exporter": "python",
   "pygments_lexer": "ipython3",
   "version": "3.8.8"
  },
  "toc": {
   "base_numbering": 1,
   "nav_menu": {},
   "number_sections": true,
   "sideBar": true,
   "skip_h1_title": false,
   "title_cell": "Table of Contents",
   "title_sidebar": "Contents",
   "toc_cell": false,
   "toc_position": {},
   "toc_section_display": true,
   "toc_window_display": false
  }
 },
 "nbformat": 4,
 "nbformat_minor": 5
}
