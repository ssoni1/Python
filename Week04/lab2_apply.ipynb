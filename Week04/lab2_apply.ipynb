{
 "cells": [
  {
   "cell_type": "code",
   "execution_count": 10,
   "id": "77bfaca8",
   "metadata": {},
   "outputs": [],
   "source": [
    "import pandas as pd\n",
    "import matplotlib.pyplot as plt\n",
    "\n",
    "bowling_data = pd.read_csv(\"https://raw.githubusercontent.com/msaricaumbc/DS601_Fall21/main/Week02/data/bowling_stats.csv\",\n",
    "                            header=None,\n",
    "                            names=['Year','City','State','Cnt1','Cnt2'])\n",
    "def merge_columns(row):\n",
    "    if pd.isna(row['Cnt2']):\n",
    "        return row['Cnt1']\n",
    "    else:\n",
    "        return row['Cnt1']*1000+row['Cnt2']\n",
    "    \n",
    "bowling_data['Total']=bowling_data.apply(merge_columns,axis=1)\n",
    "\n",
    "year = bowling_data['Year']\n",
    "score = bowling_data['Total']"
   ]
  },
  {
   "cell_type": "code",
   "execution_count": 11,
   "id": "ac06e77c",
   "metadata": {},
   "outputs": [
    {
     "data": {
      "text/html": [
       "<div>\n",
       "<style scoped>\n",
       "    .dataframe tbody tr th:only-of-type {\n",
       "        vertical-align: middle;\n",
       "    }\n",
       "\n",
       "    .dataframe tbody tr th {\n",
       "        vertical-align: top;\n",
       "    }\n",
       "\n",
       "    .dataframe thead th {\n",
       "        text-align: right;\n",
       "    }\n",
       "</style>\n",
       "<table border=\"1\" class=\"dataframe\">\n",
       "  <thead>\n",
       "    <tr style=\"text-align: right;\">\n",
       "      <th></th>\n",
       "      <th>Year</th>\n",
       "      <th>City</th>\n",
       "      <th>State</th>\n",
       "      <th>Cnt1</th>\n",
       "      <th>Cnt2</th>\n",
       "      <th>Total</th>\n",
       "    </tr>\n",
       "  </thead>\n",
       "  <tbody>\n",
       "    <tr>\n",
       "      <th>0</th>\n",
       "      <td>2018</td>\n",
       "      <td>Syracuse</td>\n",
       "      <td>N.Y.</td>\n",
       "      <td>7.0</td>\n",
       "      <td>556.0</td>\n",
       "      <td>7556.0</td>\n",
       "    </tr>\n",
       "    <tr>\n",
       "      <th>1</th>\n",
       "      <td>2017</td>\n",
       "      <td>Las Vegas</td>\n",
       "      <td>Nev.</td>\n",
       "      <td>10.0</td>\n",
       "      <td>286.0</td>\n",
       "      <td>10286.0</td>\n",
       "    </tr>\n",
       "    <tr>\n",
       "      <th>2</th>\n",
       "      <td>2016</td>\n",
       "      <td>Reno</td>\n",
       "      <td>Nev.</td>\n",
       "      <td>8.0</td>\n",
       "      <td>63.0</td>\n",
       "      <td>8063.0</td>\n",
       "    </tr>\n",
       "    <tr>\n",
       "      <th>3</th>\n",
       "      <td>2015</td>\n",
       "      <td>El Paso</td>\n",
       "      <td>Texas</td>\n",
       "      <td>7.0</td>\n",
       "      <td>315.0</td>\n",
       "      <td>7315.0</td>\n",
       "    </tr>\n",
       "    <tr>\n",
       "      <th>4</th>\n",
       "      <td>2014</td>\n",
       "      <td>Reno</td>\n",
       "      <td>Nev.</td>\n",
       "      <td>9.0</td>\n",
       "      <td>24.0</td>\n",
       "      <td>9024.0</td>\n",
       "    </tr>\n",
       "  </tbody>\n",
       "</table>\n",
       "</div>"
      ],
      "text/plain": [
       "   Year        City   State  Cnt1   Cnt2    Total\n",
       "0  2018    Syracuse    N.Y.   7.0  556.0   7556.0\n",
       "1  2017   Las Vegas    Nev.  10.0  286.0  10286.0\n",
       "2  2016        Reno    Nev.   8.0   63.0   8063.0\n",
       "3  2015     El Paso   Texas   7.0  315.0   7315.0\n",
       "4  2014        Reno    Nev.   9.0   24.0   9024.0"
      ]
     },
     "execution_count": 11,
     "metadata": {},
     "output_type": "execute_result"
    }
   ],
   "source": [
    "bowling_data.head()"
   ]
  },
  {
   "cell_type": "code",
   "execution_count": 12,
   "id": "d20b56ee",
   "metadata": {},
   "outputs": [
    {
     "name": "stdout",
     "output_type": "stream",
     "text": [
      "<class 'pandas.core.frame.DataFrame'>\n",
      "RangeIndex: 116 entries, 0 to 115\n",
      "Data columns (total 6 columns):\n",
      " #   Column  Non-Null Count  Dtype  \n",
      "---  ------  --------------  -----  \n",
      " 0   Year    116 non-null    object \n",
      " 1   City    116 non-null    object \n",
      " 2   State   115 non-null    object \n",
      " 3   Cnt1    115 non-null    float64\n",
      " 4   Cnt2    94 non-null     float64\n",
      " 5   Total   115 non-null    float64\n",
      "dtypes: float64(3), object(3)\n",
      "memory usage: 5.6+ KB\n"
     ]
    }
   ],
   "source": [
    "bowling_data.info()"
   ]
  },
  {
   "cell_type": "code",
   "execution_count": 15,
   "id": "4e615bb9",
   "metadata": {},
   "outputs": [
    {
     "data": {
      "image/png": "[encoded data removed]",
      "text/plain": [
       "<Figure size 1296x432 with 1 Axes>"
      ]
     },
     "metadata": {
      "needs_background": "light"
     },
     "output_type": "display_data"
    }
   ],
   "source": [
    "plt.figure(figsize=(18,6))\n",
    "plt.plot(year,score,'o')\n",
    "plt.xlabel('year')\n",
    "plt.ylabel('score')\n",
    "plt.title('year vs score')\n",
    "plt.show()"
   ]
  },
  {
   "cell_type": "code",
   "execution_count": null,
   "id": "cb14b765",
   "metadata": {},
   "outputs": [],
   "source": []
  }
 ],
 "metadata": {
  "kernelspec": {
   "display_name": "Python 3 (ipykernel)",
   "language": "python",
   "name": "python3"
  },
  "language_info": {
   "codemirror_mode": {
    "name": "ipython",
    "version": 3
   },
   "file_extension": ".py",
   "mimetype": "text/x-python",
   "name": "python",
   "nbconvert_exporter": "python",
   "pygments_lexer": "ipython3",
   "version": "3.8.8"
  }
 },
 "nbformat": 4,
 "nbformat_minor": 5
}
