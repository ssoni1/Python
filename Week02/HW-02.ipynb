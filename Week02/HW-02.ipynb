{
 "cells": [
  {
   "cell_type": "code",
   "execution_count": 2,
   "id": "3500e7bd-ad4a-416c-8cba-ebf6ead43c14",
   "metadata": {
    "scrolled": false
   },
   "outputs": [
    {
     "data": {
      "text/plain": [
       "Text(0.5, 0, 'Die Numbers')"
      ]
     },
     "execution_count": 2,
     "metadata": {},
     "output_type": "execute_result"
    },
    {
     "data": {
      "image/png": "[encoded data removed]",
      "text/plain": [
       "<Figure size 432x288 with 1 Axes>"
      ]
     },
     "metadata": {
      "needs_background": "light"
     },
     "output_type": "display_data"
    }
   ],
   "source": [
    "import random\n",
    "import matplotlib.pyplot as plt\n",
    "trial_count = 500\n",
    "R=0\n",
    "def fair_die_simulation(trials):                                \n",
    "   \n",
    "    simulations = []\n",
    "    options = [1,2,3,4,5,6]\n",
    "    for i in range(trial_count):                          \n",
    "       simulations += [random.randint(1,len(options))]\n",
    "    return simulations\n",
    "fair_die = fair_die_simulation(trial_count)\n",
    "\n",
    "plt.hist(fair_die,density=True,bins=20)\n",
    "plt.title('Simulation of Biased Die')\n",
    "plt.ylabel('Time')\n",
    "plt.xlabel('Die Numbers')\n"
   ]
  },
  {
   "cell_type": "code",
   "execution_count": 3,
   "id": "91896a62-f5b4-4995-91c7-d90c496cb2f9",
   "metadata": {},
   "outputs": [
    {
     "name": "stdout",
     "output_type": "stream",
     "text": [
      "[6, 1, 3, 1, 2, 1, 3, 5, 5, 4, 2, 2, 1, 6, 3, 5, 6, 6, 6, 5, 3, 1, 1, 4, 1, 4, 3, 1, 6, 3, 2, 1, 1, 1, 6, 4, 1, 2, 1, 4, 1, 5, 1, 2, 5, 2, 1, 5, 1, 5, 1, 1, 2, 3, 5, 3, 2, 1, 2, 2, 2, 4, 6, 4, 5, 3, 3, 6, 1, 4, 4, 3, 6, 2, 5, 1, 6, 4, 1, 1, 2, 4, 1, 3, 5, 1, 1, 1, 5, 1, 2, 1, 2, 3, 2, 4, 2, 4, 5, 3, 1, 4, 5, 4, 1, 6, 2, 4, 3, 3, 6, 1, 5, 3, 5, 1, 2, 2, 4, 5, 4, 2, 2, 6, 5, 3, 4, 5, 6, 4, 6, 4, 3, 3, 2, 1, 4, 3, 3, 6, 3, 4, 6, 4, 6, 6, 4, 3, 5, 4, 1, 6, 2, 5, 4, 4, 1, 1, 2, 3, 4, 4, 5, 4, 6, 6, 3, 1, 3, 1, 1, 4, 6, 3, 1, 4, 1, 6, 3, 6, 1, 2, 5, 2, 5, 5, 3, 3, 6, 1, 4, 6, 1, 2, 1, 6, 1, 1, 3, 2, 5, 2, 1, 4, 1, 1, 6, 1, 1, 4, 1, 4, 2, 1, 3, 5, 1, 4, 3, 6, 5, 1, 4, 5, 1, 2, 6, 2, 1, 1, 1, 1, 3, 1, 3, 5, 4, 1, 1, 3, 1, 4, 1, 5, 5, 1, 1, 5, 4, 5, 2, 1, 3, 4, 5, 2, 5, 3, 5, 1, 2, 3, 1, 1, 1, 4, 6, 5, 6, 2, 1, 1, 2, 3, 1, 6, 2, 6, 4, 1, 1, 6, 6, 6, 5, 4, 3, 2, 5, 3, 1, 3, 6, 4, 3, 2, 5, 3, 2, 6, 2, 3, 1, 1, 2, 1, 2, 3, 2, 2, 5, 1, 1, 4, 1, 3, 4, 4, 1, 3, 4, 5, 2, 4, 4, 4, 3, 4, 2, 3, 1, 6, 3, 3, 3, 4, 6, 1, 1, 2, 3, 1, 6, 1, 6, 1, 3, 6, 5, 3, 3, 4, 4, 6, 2, 3, 3, 4, 6, 5, 6, 6, 5, 3, 1, 1, 5, 6, 2, 4, 1, 3, 5, 1, 4, 3, 5, 5, 1, 6, 1, 1, 6, 6, 1, 1, 5, 4, 2, 1, 2, 1, 1, 6, 3, 3, 1, 5, 2, 4, 4, 2, 3, 5, 3, 2, 3, 1, 2, 3, 2, 6, 1, 1, 1, 1, 1, 6, 3, 4, 4, 6, 5, 1, 1, 3, 4, 4, 2, 1, 2, 2, 5, 6, 3, 1, 1, 1, 6, 4, 4, 5, 5, 1, 3, 1, 1, 3, 2, 1, 1, 3, 6, 2, 5, 4, 3, 1, 1, 1, 6, 1, 1, 4, 3, 2, 4, 1, 5, 1, 4, 1, 5, 5, 4, 1, 6, 1, 5, 4, 5, 1, 6, 6, 2, 5, 1, 4, 4, 5, 2, 4, 3, 4, 1, 1, 3, 2, 4, 5]\n",
      "138\n",
      "69\n",
      "80\n",
      "81\n",
      "67\n",
      "65\n"
     ]
    },
    {
     "data": {
      "text/plain": [
       "Text(0.5, 0, 'Die Nunbers')"
      ]
     },
     "execution_count": 3,
     "metadata": {},
     "output_type": "execute_result"
    },
    {
     "data": {
      "image/png": "[encoded data removed]",
      "text/plain": [
       "<Figure size 432x288 with 1 Axes>"
      ]
     },
     "metadata": {
      "needs_background": "light"
     },
     "output_type": "display_data"
    }
   ],
   "source": [
    "def biased_die_simuations(trials, weights=[0.25, 0.15, 0.15, 0.15, 0.15, 0.15]):\n",
    "    options = [1,2,3,4,5,6]\n",
    "    simulations = []\n",
    "   # biasedRoll = 0\n",
    "    for i in range(trials):\n",
    "        R=0\n",
    "        R=random.choices(options,weights)[0]\n",
    "        simulations.append(R)\n",
    "    return simulations\n",
    "biasedRoll = (biased_die_simuations(500))\n",
    "print(biasedRoll)\n",
    "print(biasedRoll.count(1))\n",
    "print(biasedRoll.count(2))\n",
    "print(biasedRoll.count(3))\n",
    "print(biasedRoll.count(4))\n",
    "print(biasedRoll.count(5))\n",
    "print(biasedRoll.count(6))\n",
    "\n",
    "plt.hist(biasedRoll,density=True,bins=20)\n",
    "plt.title('Simulation of Biased Die')\n",
    "plt.ylabel('Time')\n",
    "plt.xlabel('Die Nunbers')\n"
   ]
  },
  {
   "cell_type": "code",
   "execution_count": 4,
   "id": "a6688f0d-0dd3-49fe-836d-be1dacfea201",
   "metadata": {
    "scrolled": true
   },
   "outputs": [
    {
     "name": "stdout",
     "output_type": "stream",
     "text": [
      "Biased Mean List:\n",
      "[0.214, 0.146, 0.15, 0.152, 0.166, 0.172]\n",
      "Fair Mean List:\n",
      "[0.188, 0.156, 0.178, 0.134, 0.152, 0.192]\n"
     ]
    },
    {
     "data": {
      "text/plain": [
       "Text(0.5, 1.0, 'Fair and Biased Die')"
      ]
     },
     "execution_count": 4,
     "metadata": {},
     "output_type": "execute_result"
    },
    {
     "data": {
      "image/png": "[encoded data removed]",
      "text/plain": [
       "<Figure size 432x288 with 3 Axes>"
      ]
     },
     "metadata": {
      "needs_background": "light"
     },
     "output_type": "display_data"
    }
   ],
   "source": [
    "#biased = biased_die_simuations(trial_count)\n",
    "#fair = fair_die_simulation(trial_count)\n",
    "\n",
    "# mean1 = sum(fair) / len(fair)\n",
    "# mean2 = sum(biased) /len(biased)\n",
    "# print(\"Fair mean:\")\n",
    "# print(mean1)\n",
    "# print(\"Biased_mean:\")\n",
    "# print(mean2)\n",
    "\n",
    "\n",
    "\n",
    "# plt.hist(mean1,density=True,bins=20)\n",
    "# plt.hist(mean2,density=True,bins=20)\n",
    "# plt.title('Mean Calculation of fair and biased list')\n",
    "# plt.ylabel('Time')\n",
    "# plt.xlabel('Mean')\n",
    "biasedRoll = (biased_die_simuations(500))\n",
    "biased_meanList = [biasedRoll.count(1)/500,\n",
    "                   biasedRoll.count(2)/500,\n",
    "                   biasedRoll.count(3)/500,\n",
    "                   biasedRoll.count(4)/500,\n",
    "                   biasedRoll.count(5)/500,\n",
    "                   biasedRoll.count(6)/500]\n",
    "\n",
    "fair_meanList = [fair_die.count(1)/500,\n",
    "                   fair_die.count(2)/500,\n",
    "                   fair_die.count(3)/500,\n",
    "                   fair_die.count(4)/500,\n",
    "                   fair_die.count(5)/500,\n",
    "                   fair_die.count(6)/500]\n",
    "print(\"Biased Mean List:\")\n",
    "print(biased_meanList)\n",
    "print(\"Fair Mean List:\")\n",
    "print(fair_meanList)\n",
    "\n",
    "\n",
    "n_bins = [1,2,3,4,5,6]\n",
    "plt.figure()\n",
    "plt.subplot(2,2,1)\n",
    "plt.hist(fair_meanList,density=True,bins=20)\n",
    "plt.title('Fair Die Mean')\n",
    "\n",
    "plt.subplot(2,2,2)\n",
    "plt.hist(biased_meanList,density=True,bins=20)\n",
    "plt.title('Biased Die Mean')\n",
    "\n",
    "plt.subplot(2,2,(3,4))\n",
    "plt.hist(biased_meanList,density=True,bins=20)\n",
    "plt.hist(fair_meanList,density=True,bins=20)\n",
    "plt.title('Fair and Biased Die')\n",
    "\n",
    "\n",
    "    \n",
    "# biased_mean_list = ...\n",
    "# unbiased_mean_list = ..."
   ]
  }
 ],
 "metadata": {
  "kernelspec": {
   "display_name": "Python 3 (ipykernel)",
   "language": "python",
   "name": "python3"
  },
  "language_info": {
   "codemirror_mode": {
    "name": "ipython",
    "version": 3
   },
   "file_extension": ".py",
   "mimetype": "text/x-python",
   "name": "python",
   "nbconvert_exporter": "python",
   "pygments_lexer": "ipython3",
   "version": "3.8.8"
  }
 },
 "nbformat": 4,
 "nbformat_minor": 5
}
