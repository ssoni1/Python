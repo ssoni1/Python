{
 "cells": [
  {
   "cell_type": "markdown",
   "id": "708caffe",
   "metadata": {},
   "source": [
    "<b><h1> Homework Data-601 (Week01)</h1></b>"
   ]
  },
  {
   "cell_type": "markdown",
   "id": "4ec576a3",
   "metadata": {},
   "source": [
    "<b><h2>Question-1</h2>\n",
    "    \n",
    "Write a Python function to return a list of all the numbers from 1 to n which are divisible by 5. n will be given as an argument to your function.</b>"
   ]
  },
  {
   "cell_type": "code",
   "execution_count": 15,
   "id": "93162a62",
   "metadata": {},
   "outputs": [
    {
     "data": {
      "text/plain": [
       "[0,\n",
       " 5,\n",
       " 10,\n",
       " 15,\n",
       " 20,\n",
       " 25,\n",
       " 30,\n",
       " 35,\n",
       " 40,\n",
       " 45,\n",
       " 50,\n",
       " 55,\n",
       " 60,\n",
       " 65,\n",
       " 70,\n",
       " 75,\n",
       " 80,\n",
       " 85,\n",
       " 90,\n",
       " 95,\n",
       " 100,\n",
       " 105,\n",
       " 110,\n",
       " 115,\n",
       " 120]"
      ]
     },
     "execution_count": 15,
     "metadata": {},
     "output_type": "execute_result"
    }
   ],
   "source": [
    "# Your Answer Cell\n",
    "# you can edit the function below. \n",
    "# Don't change function name and parameter names.\n",
    "# you can define new variables inside of the function.\n",
    "\n",
    "def divisible_five(given_number):\n",
    "    my_list = []\n",
    "    for s in range(given_number):\n",
    "        if(s%5==0):\n",
    "            my_list.append(s)\n",
    "    return my_list\n",
    "\n",
    "divisible_five(121)"
   ]
  },
  {
   "cell_type": "markdown",
   "id": "aac2699f",
   "metadata": {},
   "source": [
    "<b><h2>Question-2</h2>\n",
    "    \n",
    "Write a function that returns the sum of all the multiples of 3 or 7 below a given number.</b>"
   ]
  },
  {
   "cell_type": "code",
   "execution_count": 21,
   "id": "c81bd0af",
   "metadata": {},
   "outputs": [
    {
     "data": {
      "text/plain": [
       "21426429"
      ]
     },
     "execution_count": 21,
     "metadata": {},
     "output_type": "execute_result"
    }
   ],
   "source": [
    "# Your Answer Cell\n",
    "# you can edit the function below. \n",
    "# Don't change function name and parameter names.\n",
    "# you can define new variables inside of the function.\n",
    "\n",
    "def my_function(given_number):\n",
    "    a=0\n",
    "    for s in range(given_number):\n",
    "        if(s%3==0 or s%7==0):\n",
    "            a = a+s\n",
    "\n",
    "    return a\n",
    "\n",
    "\n",
    "## your answer above\n",
    "\n",
    "my_function(10000)"
   ]
  },
  {
   "cell_type": "markdown",
   "id": "8a099518",
   "metadata": {},
   "source": [
    "<b><h2>Question-3 (Shell & Magic Commands)</h2>\n",
    "\n",
    "<h2>Question-3-a</h2>\n",
    "    \n",
    "Below print current working directory.</b>"
   ]
  },
  {
   "cell_type": "code",
   "execution_count": 3,
   "id": "45748b99",
   "metadata": {},
   "outputs": [
    {
     "data": {
      "text/plain": [
       "'C:\\\\Users\\\\srash\\\\Documents\\\\Semester01_Subjects\\\\601-Intro_DataScience\\\\601-Homework01'"
      ]
     },
     "execution_count": 3,
     "metadata": {},
     "output_type": "execute_result"
    }
   ],
   "source": [
    "%pwd"
   ]
  },
  {
   "cell_type": "markdown",
   "id": "3831dcc4",
   "metadata": {},
   "source": [
    "<b><h2>Question-3-b</h2>\n",
    "\n",
    "Below list all the files and folders in the current working directory.</b>"
   ]
  },
  {
   "cell_type": "code",
   "execution_count": 4,
   "id": "e21c2d58",
   "metadata": {},
   "outputs": [
    {
     "name": "stdout",
     "output_type": "stream",
     "text": [
      " Volume in drive C is Windows\n",
      " Volume Serial Number is 6A64-9A68\n",
      "\n",
      " Directory of C:\\Users\\srash\\Documents\\Semester01_Subjects\\601-Intro_DataScience\\601-Homework01\n",
      "\n",
      "09/08/2021  10:41 PM    <DIR>          .\n",
      "09/08/2021  10:41 PM    <DIR>          ..\n",
      "               0 File(s)              0 bytes\n",
      "               2 Dir(s)  930,415,759,360 bytes free\n"
     ]
    }
   ],
   "source": [
    "ls"
   ]
  },
  {
   "cell_type": "markdown",
   "id": "0496e09b",
   "metadata": {},
   "source": [
    "<b><h2>Question 3-c</h2>\n",
    "\n",
    "Create a new directory within the current working directory 'data'</b>"
   ]
  },
  {
   "cell_type": "code",
   "execution_count": 5,
   "id": "5aa34170",
   "metadata": {},
   "outputs": [],
   "source": [
    "%mkdir data"
   ]
  },
  {
   "cell_type": "markdown",
   "id": "b26fdd9c",
   "metadata": {},
   "source": [
    "<b><h2>Question-3-d</h2>\n",
    "\n",
    "Change the working directory to 'data' print current working directory again to make sure that your answer is correct.</b>"
   ]
  },
  {
   "cell_type": "code",
   "execution_count": 8,
   "id": "54839f21",
   "metadata": {},
   "outputs": [
    {
     "name": "stdout",
     "output_type": "stream",
     "text": [
      "C:\\Users\\srash\\Documents\\Semester01_Subjects\\601-Intro_DataScience\\601-Homework01\n"
     ]
    }
   ],
   "source": [
    "%cd C:\\\\Users\\\\srash\\\\Documents\\\\Semester01_Subjects\\\\601-Intro_DataScience\\\\601-Homework01"
   ]
  },
  {
   "cell_type": "code",
   "execution_count": 9,
   "id": "6c28c182",
   "metadata": {},
   "outputs": [
    {
     "data": {
      "text/plain": [
       "'C:\\\\Users\\\\srash\\\\Documents\\\\Semester01_Subjects\\\\601-Intro_DataScience\\\\601-Homework01'"
      ]
     },
     "execution_count": 9,
     "metadata": {},
     "output_type": "execute_result"
    }
   ],
   "source": [
    "%pwd"
   ]
  },
  {
   "cell_type": "markdown",
   "id": "cbadb432",
   "metadata": {},
   "source": [
    "<b><h2>Question-3-e</h2>\n",
    "\n",
    "Create a new file under 'content/my_directory' and name it 'my_script.py'</b>"
   ]
  },
  {
   "cell_type": "code",
   "execution_count": 10,
   "id": "58feb814",
   "metadata": {},
   "outputs": [
    {
     "name": "stderr",
     "output_type": "stream",
     "text": [
      "A subdirectory or file content already exists.\n"
     ]
    }
   ],
   "source": [
    "mkdir content"
   ]
  },
  {
   "cell_type": "code",
   "execution_count": 11,
   "id": "815aa89b",
   "metadata": {},
   "outputs": [
    {
     "data": {
      "text/plain": [
       "'C:\\\\Users\\\\srash\\\\Documents\\\\Semester01_Subjects\\\\601-Intro_DataScience\\\\601-Homework01\\\\data'"
      ]
     },
     "execution_count": 11,
     "metadata": {},
     "output_type": "execute_result"
    }
   ],
   "source": [
    "pwd"
   ]
  },
  {
   "cell_type": "code",
   "execution_count": 12,
   "id": "e4ee0e46",
   "metadata": {},
   "outputs": [
    {
     "name": "stdout",
     "output_type": "stream",
     "text": [
      "C:\\Users\\srash\\Documents\\Semester01_Subjects\\601-Intro_DataScience\\601-Homework01\\data\\content\n"
     ]
    }
   ],
   "source": [
    "cd content"
   ]
  },
  {
   "cell_type": "code",
   "execution_count": 13,
   "id": "0dc7af90",
   "metadata": {},
   "outputs": [],
   "source": [
    "mkdir my_directory"
   ]
  },
  {
   "cell_type": "code",
   "execution_count": 14,
   "id": "a7fead68",
   "metadata": {},
   "outputs": [
    {
     "name": "stdout",
     "output_type": "stream",
     "text": [
      "C:\\Users\\srash\\Documents\\Semester01_Subjects\\601-Intro_DataScience\\601-Homework01\\data\\content\\my_directory\n"
     ]
    }
   ],
   "source": [
    "cd my_directory"
   ]
  },
  {
   "cell_type": "code",
   "execution_count": 16,
   "id": "84ba2534",
   "metadata": {},
   "outputs": [],
   "source": [
    "%notebook my_script.py"
   ]
  },
  {
   "cell_type": "markdown",
   "id": "38409e38",
   "metadata": {},
   "source": [
    "\n",
    "<b><h2>Question-3-f</h2>\n",
    "\n",
    "Create 'my_script.py' so that it prints 'Your First Name-Your Last Name' and run this scripy in the cell below.</b>\n",
    "\n"
   ]
  },
  {
   "cell_type": "code",
   "execution_count": 3,
   "id": "5c34e64b",
   "metadata": {
    "scrolled": true
   },
   "outputs": [
    {
     "name": "stdout",
     "output_type": "stream",
     "text": [
      "Writing My_Script.py\n"
     ]
    }
   ],
   "source": [
    "%%writefile My_Script.py\n",
    "print(\"SRASHTI SONI\")"
   ]
  },
  {
   "cell_type": "code",
   "execution_count": 4,
   "id": "903ca736",
   "metadata": {},
   "outputs": [
    {
     "name": "stdout",
     "output_type": "stream",
     "text": [
      "SRASHTI SONI\n"
     ]
    }
   ],
   "source": [
    "!python My_Script.py"
   ]
  }
 ],
 "metadata": {
  "kernelspec": {
   "display_name": "Python 3",
   "language": "python",
   "name": "python3"
  },
  "language_info": {
   "codemirror_mode": {
    "name": "ipython",
    "version": 3
   },
   "file_extension": ".py",
   "mimetype": "text/x-python",
   "name": "python",
   "nbconvert_exporter": "python",
   "pygments_lexer": "ipython3",
   "version": "3.8.8"
  }
 },
 "nbformat": 4,
 "nbformat_minor": 5
}
