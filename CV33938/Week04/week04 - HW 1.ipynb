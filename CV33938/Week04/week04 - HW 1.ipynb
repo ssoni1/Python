{
 "cells": [
  {
   "cell_type": "code",
   "execution_count": 9,
   "metadata": {},
   "outputs": [],
   "source": [
    "## dont touch this cell and assertions after the questions\n",
    "score = {}\n",
    "\n",
    "equality_check = lambda a, b: len(a) == len(b) and all([ x==y for x,y in zip(a,b)])\n",
    "def assertion(question, result, expected):\n",
    "    same = False\n",
    "    try:\n",
    "        if type(result) in (int, str, bool, type(None)):\n",
    "            same = result == expected\n",
    "        else:\n",
    "            same = equality_check(result, expected)\n",
    "    except:\n",
    "        pass\n",
    "    \n",
    "    if question != None and same:\n",
    "        score[question] = True\n",
    "        \n",
    "    print('correct' if same else 'incorrect')"
   ]
  },
  {
   "cell_type": "markdown",
   "metadata": {},
   "source": [
    "## Tuples"
   ]
  },
  {
   "cell_type": "code",
   "execution_count": 10,
   "metadata": {},
   "outputs": [
    {
     "name": "stdout",
     "output_type": "stream",
     "text": [
      "1\n",
      "2\n"
     ]
    }
   ],
   "source": [
    "# example - not hw\n",
    "def get_dummy_tupple():\n",
    "    \"\"\"\n",
    "    Returns (1,2)\n",
    "    \"\"\"\n",
    "    return (1,2)\n",
    "\n",
    "x, y = get_dummy_tupple()\n",
    "print(x)\n",
    "print(y)"
   ]
  },
  {
   "cell_type": "code",
   "execution_count": 11,
   "metadata": {},
   "outputs": [],
   "source": [
    "state_names = [\"Alaska\", \"Alabama\", \"Arkansas\", \"American Samoa\", \"Arizona\", \"California\", \"Colorado\", \"Connecticut\", \"District \", \"of Columbia\", \"Delaware\", \"Florida\", \"Georgia\", \"Guam\", \"Hawaii\", \"Iowa\", \"Idaho\", \"Illinois\", \"Indiana\", \"Kansas\", \"Kentucky\", \"Louisiana\", \"Massachusetts\", \"Maryland\", \"Maine\", \"Michigan\", \"Minnesota\", \"Missouri\", \"Mississippi\", \"Montana\", \"North Carolina\", \"North Dakota\", \"Nebraska\", \"New Hampshire\", \"New Jersey\", \"New Mexico\", \"Nevada\", \"New York\", \"Ohio\", \"Oklahoma\", \"Oregon\", \"Pennsylvania\", \"Puerto Rico\", \"Rhode Island\", \"South Carolina\", \"South Dakota\", \"Tennessee\", \"Texas\", \"Utah\", \"Virginia\", \"Virgin Islands\", \"Vermont\", \"Washington\", \"Wisconsin\", \"West Virginia\", \"Wyoming\"]\n",
    "\n",
    "us_state_code = {\n",
    "    'Alabama': 'AL',\n",
    "    'Alaska': 'AK',\n",
    "    'American Samoa': 'AS',\n",
    "    'Arizona': 'AZ',\n",
    "    'Arkansas': 'AR',\n",
    "    'California': 'CA',\n",
    "    'Colorado': 'CO',\n",
    "    'Connecticut': 'CT',\n",
    "    'Delaware': 'DE',\n",
    "    'District of Columbia': 'DC',\n",
    "    'Florida': 'FL',\n",
    "    'Georgia': 'GA',\n",
    "    'Guam': 'GU',\n",
    "    'Hawaii': 'HI',\n",
    "    'Idaho': 'ID',\n",
    "    'Illinois': 'IL',\n",
    "    'Indiana': 'IN',\n",
    "    'Iowa': 'IA',\n",
    "    'Kansas': 'KS',\n",
    "    'Kentucky': 'KY',\n",
    "    'Louisiana': 'LA',\n",
    "    'Maine': 'ME',\n",
    "    'Maryland': 'MD',\n",
    "    'Massachusetts': 'MA',\n",
    "    'Michigan': 'MI',\n",
    "    'Minnesota': 'MN',\n",
    "    'Mississippi': 'MS',\n",
    "    'Missouri': 'MO',\n",
    "    'Montana': 'MT',\n",
    "    'Nebraska': 'NE',\n",
    "    'Nevada': 'NV',\n",
    "    'New Hampshire': 'NH',\n",
    "    'New Jersey': 'NJ',\n",
    "    'New Mexico': 'NM',\n",
    "    'New York': 'NY',\n",
    "    'North Carolina': 'NC',\n",
    "    'North Dakota': 'ND',\n",
    "    'Northern Mariana Islands':'MP',\n",
    "    'Ohio': 'OH',\n",
    "    'Oklahoma': 'OK',\n",
    "    'Oregon': 'OR',\n",
    "    'Pennsylvania': 'PA',\n",
    "    'Puerto Rico': 'PR',\n",
    "    'Rhode Island': 'RI',\n",
    "    'South Carolina': 'SC',\n",
    "    'South Dakota': 'SD',\n",
    "    'Tennessee': 'TN',\n",
    "    'Texas': 'TX',\n",
    "    'Utah': 'UT',\n",
    "    'Vermont': 'VT',\n",
    "    'Virgin Islands': 'VI',\n",
    "    'Virginia': 'VA',\n",
    "    'Washington': 'WA',\n",
    "    'West Virginia': 'WV',\n",
    "    'Wisconsin': 'WI',\n",
    "    'Wyoming': 'WY'\n",
    "}\n"
   ]
  },
  {
   "cell_type": "code",
   "execution_count": 4,
   "metadata": {},
   "outputs": [],
   "source": [
    "# hw 1\n",
    "def get_state_with_code(state_code):\n",
    "    \"\"\"\n",
    "    returns state name and code as a tupple (code should NOT be longer than 5 line)\n",
    "    if input \"MD\" return \"Maryland\", \"MD\"\n",
    "    \"\"\"\n",
    "    for S in us_state_code.items():\n",
    "        if S[1] == state_code:\n",
    "            return S\n",
    "    \n",
    "    #return (\"Maryland\", \"MD\")\n"
   ]
  },
  {
   "cell_type": "code",
   "execution_count": 5,
   "metadata": {},
   "outputs": [
    {
     "name": "stdout",
     "output_type": "stream",
     "text": [
      "correct\n",
      "correct\n"
     ]
    }
   ],
   "source": [
    "# don't change\n",
    "assertion('1a', get_state_with_code('CA'), ('California', 'CA'))\n",
    "assertion('1b', get_state_with_code('MD'), ('Maryland', 'MD'))"
   ]
  },
  {
   "cell_type": "code",
   "execution_count": 13,
   "metadata": {},
   "outputs": [],
   "source": [
    "# hw 2\n",
    "import random\n",
    "import operator as op\n",
    "def get_random_calculation_values():\n",
    "    \n",
    "    \"\"\"\n",
    "    returns 2 random values and a random operator (+, -)\n",
    "    eg:\n",
    "    (10, 20, '+')\n",
    "    \"\"\"\n",
    "    op_list = ['+','-','x','/']\n",
    "    number_1 = random.randint(1,10)\n",
    "    number_2 = random.randint(1,10)\n",
    "    operators = random.choice(op_list)\n",
    "    \n",
    "    ran_values = number_1,number_2,operators\n",
    "    return ran_values\n",
    "\n",
    "# hw 3\n",
    "def get_correct_answer(number1, number2, key):\n",
    "    operation = {\"+\": op.add, \"-\": op.sub, \"/\": op.truediv, \"*\": op.mul}\n",
    "    print(number1,key,number2)\n",
    "    answer = operation[key](number1, number2) \n",
    "    return answer"
   ]
  },
  {
   "cell_type": "code",
   "execution_count": 15,
   "metadata": {},
   "outputs": [
    {
     "name": "stdout",
     "output_type": "stream",
     "text": [
      "10 x 10\n"
     ]
    },
    {
     "ename": "KeyError",
     "evalue": "'x'",
     "output_type": "error",
     "traceback": [
      "\u001b[1;31m---------------------------------------------------------------------------\u001b[0m",
      "\u001b[1;31mKeyError\u001b[0m                                  Traceback (most recent call last)",
      "\u001b[1;32m~\\AppData\\Local\\Temp/ipykernel_18016/2907705420.py\u001b[0m in \u001b[0;36m<module>\u001b[1;34m\u001b[0m\n\u001b[0;32m     14\u001b[0m             \u001b[0mprint\u001b[0m\u001b[1;33m(\u001b[0m\u001b[1;34m'incorrect'\u001b[0m\u001b[1;33m)\u001b[0m\u001b[1;33m\u001b[0m\u001b[1;33m\u001b[0m\u001b[0m\n\u001b[0;32m     15\u001b[0m \u001b[1;33m\u001b[0m\u001b[0m\n\u001b[1;32m---> 16\u001b[1;33m \u001b[0mgame\u001b[0m\u001b[1;33m(\u001b[0m\u001b[1;33m)\u001b[0m\u001b[1;33m\u001b[0m\u001b[1;33m\u001b[0m\u001b[0m\n\u001b[0m",
      "\u001b[1;32m~\\AppData\\Local\\Temp/ipykernel_18016/2907705420.py\u001b[0m in \u001b[0;36mgame\u001b[1;34m()\u001b[0m\n\u001b[0;32m      3\u001b[0m \u001b[1;32mdef\u001b[0m \u001b[0mgame\u001b[0m\u001b[1;33m(\u001b[0m\u001b[1;33m)\u001b[0m\u001b[1;33m:\u001b[0m\u001b[1;33m\u001b[0m\u001b[1;33m\u001b[0m\u001b[0m\n\u001b[0;32m      4\u001b[0m     \u001b[0mnumber1\u001b[0m\u001b[1;33m,\u001b[0m \u001b[0mnumber2\u001b[0m\u001b[1;33m,\u001b[0m \u001b[0moperator\u001b[0m \u001b[1;33m=\u001b[0m \u001b[0mget_random_calculation_values\u001b[0m\u001b[1;33m(\u001b[0m\u001b[1;33m)\u001b[0m\u001b[1;33m\u001b[0m\u001b[1;33m\u001b[0m\u001b[0m\n\u001b[1;32m----> 5\u001b[1;33m     \u001b[0mcorrect_answer\u001b[0m \u001b[1;33m=\u001b[0m \u001b[0mget_correct_answer\u001b[0m\u001b[1;33m(\u001b[0m\u001b[0mnumber1\u001b[0m\u001b[1;33m,\u001b[0m \u001b[0mnumber2\u001b[0m\u001b[1;33m,\u001b[0m \u001b[0moperator\u001b[0m\u001b[1;33m)\u001b[0m\u001b[1;33m\u001b[0m\u001b[1;33m\u001b[0m\u001b[0m\n\u001b[0m\u001b[0;32m      6\u001b[0m \u001b[1;33m\u001b[0m\u001b[0m\n\u001b[0;32m      7\u001b[0m     \u001b[1;32mwhile\u001b[0m\u001b[1;33m(\u001b[0m\u001b[1;32mTrue\u001b[0m\u001b[1;33m)\u001b[0m\u001b[1;33m:\u001b[0m\u001b[1;33m\u001b[0m\u001b[1;33m\u001b[0m\u001b[0m\n",
      "\u001b[1;32m~\\AppData\\Local\\Temp/ipykernel_18016/2331294274.py\u001b[0m in \u001b[0;36mget_correct_answer\u001b[1;34m(number1, number2, key)\u001b[0m\n\u001b[0;32m     21\u001b[0m     \u001b[0moperation\u001b[0m \u001b[1;33m=\u001b[0m \u001b[1;33m{\u001b[0m\u001b[1;34m\"+\"\u001b[0m\u001b[1;33m:\u001b[0m \u001b[0mop\u001b[0m\u001b[1;33m.\u001b[0m\u001b[0madd\u001b[0m\u001b[1;33m,\u001b[0m \u001b[1;34m\"-\"\u001b[0m\u001b[1;33m:\u001b[0m \u001b[0mop\u001b[0m\u001b[1;33m.\u001b[0m\u001b[0msub\u001b[0m\u001b[1;33m,\u001b[0m \u001b[1;34m\"/\"\u001b[0m\u001b[1;33m:\u001b[0m \u001b[0mop\u001b[0m\u001b[1;33m.\u001b[0m\u001b[0mtruediv\u001b[0m\u001b[1;33m,\u001b[0m \u001b[1;34m\"*\"\u001b[0m\u001b[1;33m:\u001b[0m \u001b[0mop\u001b[0m\u001b[1;33m.\u001b[0m\u001b[0mmul\u001b[0m\u001b[1;33m}\u001b[0m\u001b[1;33m\u001b[0m\u001b[1;33m\u001b[0m\u001b[0m\n\u001b[0;32m     22\u001b[0m     \u001b[0mprint\u001b[0m\u001b[1;33m(\u001b[0m\u001b[0mnumber1\u001b[0m\u001b[1;33m,\u001b[0m\u001b[0mkey\u001b[0m\u001b[1;33m,\u001b[0m\u001b[0mnumber2\u001b[0m\u001b[1;33m)\u001b[0m\u001b[1;33m\u001b[0m\u001b[1;33m\u001b[0m\u001b[0m\n\u001b[1;32m---> 23\u001b[1;33m     \u001b[0manswer\u001b[0m \u001b[1;33m=\u001b[0m \u001b[0moperation\u001b[0m\u001b[1;33m[\u001b[0m\u001b[0mkey\u001b[0m\u001b[1;33m]\u001b[0m\u001b[1;33m(\u001b[0m\u001b[0mnumber1\u001b[0m\u001b[1;33m,\u001b[0m \u001b[0mnumber2\u001b[0m\u001b[1;33m)\u001b[0m\u001b[1;33m\u001b[0m\u001b[1;33m\u001b[0m\u001b[0m\n\u001b[0m\u001b[0;32m     24\u001b[0m     \u001b[1;32mreturn\u001b[0m \u001b[0manswer\u001b[0m\u001b[1;33m\u001b[0m\u001b[1;33m\u001b[0m\u001b[0m\n",
      "\u001b[1;31mKeyError\u001b[0m: 'x'"
     ]
    }
   ],
   "source": [
    "# fix: get_correct_answer and run this\n",
    "# Homework 1 - just run - no need to change anything here\n",
    "def game():\n",
    "    number1, number2, operator = get_random_calculation_values()\n",
    "    correct_answer = get_correct_answer(number1, number2, operator)\n",
    "\n",
    "    while(True):\n",
    "        question = f'{number1} {operator} {number2} = ? '\n",
    "        answer = input(question)\n",
    "        if int(answer) == correct_answer:\n",
    "            print('correct')\n",
    "            break\n",
    "        else:\n",
    "            print('incorrect')\n",
    "    \n",
    "game()"
   ]
  },
  {
   "cell_type": "code",
   "execution_count": null,
   "metadata": {},
   "outputs": [],
   "source": []
  },
  {
   "cell_type": "markdown",
   "metadata": {},
   "source": [
    "## List"
   ]
  },
  {
   "cell_type": "code",
   "execution_count": 16,
   "metadata": {},
   "outputs": [],
   "source": [
    "# hw 4\n",
    "def array_length(arr):\n",
    "    \n",
    "    \"\"\"\n",
    "    This function returns the lenght of array\n",
    "    \"\"\"\n",
    "    return len(arr)\n",
    "\n"
   ]
  },
  {
   "cell_type": "code",
   "execution_count": 17,
   "metadata": {},
   "outputs": [
    {
     "name": "stdout",
     "output_type": "stream",
     "text": [
      "correct\n",
      "correct\n",
      "correct\n",
      "correct\n"
     ]
    }
   ],
   "source": [
    "# don't change\n",
    "assertion('4a', array_length([]), 0)\n",
    "assertion('4b', array_length([1]),1)\n",
    "assertion('4c', array_length([1,2]), 2)\n",
    "assertion('4d', array_length([1,2,3]), 3)"
   ]
  },
  {
   "cell_type": "code",
   "execution_count": 18,
   "metadata": {},
   "outputs": [],
   "source": [
    "# hw 5\n",
    "def get_odd_numbers(arr):\n",
    "    odd_number  = []\n",
    "    for i in arr:\n",
    "        if (i%2 != 0):\n",
    "            odd_number.append(i)\n",
    "    \n",
    "    return odd_number"
   ]
  },
  {
   "cell_type": "code",
   "execution_count": 19,
   "metadata": {},
   "outputs": [
    {
     "name": "stdout",
     "output_type": "stream",
     "text": [
      "correct\n",
      "correct\n",
      "correct\n"
     ]
    }
   ],
   "source": [
    "# don't change\n",
    "assertion('5a', get_odd_numbers([11,2,5,5,3,1]), [11,5,5,3,1])\n",
    "assertion('5b', get_odd_numbers([8,1,2,5,5,3,1]), [1,5,5,3,1])\n",
    "assertion('5c', get_odd_numbers([3,2,1,0,9,9]), [3,1,9,9])"
   ]
  },
  {
   "cell_type": "code",
   "execution_count": 22,
   "metadata": {},
   "outputs": [],
   "source": [
    "# hw 6\n",
    "import numpy as np\n",
    "def check_if_two_arrays_equal(arr1, arr2):\n",
    "    return np.array_equal(arr1, arr2)\n",
    "    \"\"\"\n",
    "    Checks if values passed are the same in both arrays\n",
    "    eg: [1,2,3] == [1,2,3] \n",
    "        [1,2,3] != [3,1,2]\n",
    "    \"\"\"\n",
    "   "
   ]
  },
  {
   "cell_type": "code",
   "execution_count": 23,
   "metadata": {},
   "outputs": [
    {
     "name": "stdout",
     "output_type": "stream",
     "text": [
      "correct\n",
      "correct\n",
      "correct\n",
      "correct\n",
      "correct\n"
     ]
    }
   ],
   "source": [
    "# don't change\n",
    "assertion('6a', check_if_two_arrays_equal([1,2,5,6], [1,2,5,6]), True)\n",
    "assertion('6b', check_if_two_arrays_equal([1,2,6], [1,2,5]), False)\n",
    "assertion('6c', check_if_two_arrays_equal([1,2,5,9,0,0], [1,2,5,9,0,0]), True)\n",
    "assertion('6d', check_if_two_arrays_equal([], []), True)\n",
    "assertion('6e', check_if_two_arrays_equal([1], []), False)"
   ]
  },
  {
   "cell_type": "code",
   "execution_count": 24,
   "metadata": {},
   "outputs": [
    {
     "data": {
      "text/plain": [
       "'\\n    This function reverses the array\\n    [1,2,3] returns [3,2,1]\\n    '"
      ]
     },
     "execution_count": 24,
     "metadata": {},
     "output_type": "execute_result"
    }
   ],
   "source": [
    "# hw 7\n",
    "def reverse_array(arr):\n",
    "    rev_arr = arr[::-1]\n",
    "    return rev_arr\n",
    "\"\"\"\n",
    "    This function reverses the array\n",
    "    [1,2,3] returns [3,2,1]\n",
    "    \"\"\""
   ]
  },
  {
   "cell_type": "code",
   "execution_count": 25,
   "metadata": {},
   "outputs": [
    {
     "name": "stdout",
     "output_type": "stream",
     "text": [
      "correct\n",
      "correct\n",
      "correct\n"
     ]
    }
   ],
   "source": [
    "# don't change\n",
    "assertion('7a', reverse_array([1,2,3]), [3,2,1])\n",
    "assertion('7b', reverse_array(['a','b']), ['b','a'])\n",
    "assertion('7c', reverse_array(['a']), ['a'])"
   ]
  },
  {
   "cell_type": "code",
   "execution_count": null,
   "metadata": {},
   "outputs": [],
   "source": []
  },
  {
   "cell_type": "code",
   "execution_count": 26,
   "metadata": {},
   "outputs": [],
   "source": [
    "# hw 8\n",
    "def get_states_starts_with(letter): \n",
    "    \"\"\"\n",
    "    returns states starts with the passed in letter\n",
    "    'a' or 'A' => ['Alaska', 'Alabama', 'Arkansas', 'American Samoa', 'Arizona']\n",
    "    \"\"\"\n",
    "    string_match = [S for S in state_names if S[0].lower() == letter.lower()]\n",
    "    return string_match\n"
   ]
  },
  {
   "cell_type": "code",
   "execution_count": 27,
   "metadata": {},
   "outputs": [
    {
     "name": "stdout",
     "output_type": "stream",
     "text": [
      "correct\n",
      "correct\n"
     ]
    }
   ],
   "source": [
    "# don't change\n",
    "assertion('8a', get_states_starts_with('a'), ['Alaska', 'Alabama', 'Arkansas', 'American Samoa', 'Arizona'])\n",
    "assertion('8b', get_states_starts_with('m'), ['Massachusetts', 'Maryland', 'Maine', 'Michigan', 'Minnesota', 'Missouri', 'Mississippi','Montana'])"
   ]
  },
  {
   "cell_type": "code",
   "execution_count": 28,
   "metadata": {},
   "outputs": [],
   "source": [
    "# hw 9\n",
    "def get_state_code_for(state):\n",
    "     for x in us_state_code.items():\n",
    "        if x[0] == state:\n",
    "            return x[1]\n",
    "   \n",
    "    \n",
    "    "
   ]
  },
  {
   "cell_type": "code",
   "execution_count": 29,
   "metadata": {},
   "outputs": [
    {
     "name": "stdout",
     "output_type": "stream",
     "text": [
      "correct\n",
      "correct\n",
      "correct\n"
     ]
    }
   ],
   "source": [
    "# don't change\n",
    "assertion('9a', get_state_code_for('Maryland'), \"MD\")\n",
    "assertion('9b', get_state_code_for('Hogwarts'), None)\n",
    "assertion('9c', get_state_code_for('Alaska'), 'AK')"
   ]
  },
  {
   "cell_type": "markdown",
   "metadata": {},
   "source": [
    "## Functions\n",
    "\n",
    "### Lambda"
   ]
  },
  {
   "cell_type": "code",
   "execution_count": 30,
   "metadata": {},
   "outputs": [
    {
     "data": {
      "text/plain": [
       "False"
      ]
     },
     "execution_count": 30,
     "metadata": {},
     "output_type": "execute_result"
    }
   ],
   "source": [
    "# Note: you can use if-else in a single line\n",
    "import random\n",
    "\n",
    "True if random.randint(0,1) == 0 else False"
   ]
  },
  {
   "cell_type": "code",
   "execution_count": 31,
   "metadata": {},
   "outputs": [
    {
     "data": {
      "text/plain": [
       "'positive'"
      ]
     },
     "execution_count": 31,
     "metadata": {},
     "output_type": "execute_result"
    }
   ],
   "source": [
    "'positive' if random.randint(-10, 10) > 0 else 'negative' "
   ]
  },
  {
   "cell_type": "code",
   "execution_count": 32,
   "metadata": {},
   "outputs": [
    {
     "name": "stdout",
     "output_type": "stream",
     "text": [
      "False\n",
      "True\n"
     ]
    }
   ],
   "source": [
    "# example # it shoud not have return statement\n",
    "check_if_negative = lambda x: True if x < 0 else False\n",
    "\n",
    "print(check_if_negative(10))\n",
    "print(check_if_negative(-10))"
   ]
  },
  {
   "cell_type": "code",
   "execution_count": 33,
   "metadata": {},
   "outputs": [
    {
     "data": {
      "text/plain": [
       "6"
      ]
     },
     "execution_count": 33,
     "metadata": {},
     "output_type": "execute_result"
    }
   ],
   "source": [
    "# hw 10 - write a lambda function to double the value: \n",
    "doubler = lambda x: x*2\n",
    "\n",
    "doubler(3)"
   ]
  },
  {
   "cell_type": "code",
   "execution_count": 34,
   "metadata": {},
   "outputs": [
    {
     "name": "stdout",
     "output_type": "stream",
     "text": [
      "correct\n",
      "correct\n"
     ]
    }
   ],
   "source": [
    "# don't change\n",
    "assertion('10a', doubler(3), 6)\n",
    "assertion('10b', doubler(100), 200)"
   ]
  },
  {
   "cell_type": "code",
   "execution_count": 35,
   "metadata": {},
   "outputs": [],
   "source": [
    "# hw 11 - write a lambda function that return True if text has a word\n",
    "has_word = lambda text, word: True or False\n"
   ]
  },
  {
   "cell_type": "code",
   "execution_count": 36,
   "metadata": {},
   "outputs": [
    {
     "name": "stdout",
     "output_type": "stream",
     "text": [
      "correct\n",
      "correct\n",
      "incorrect\n"
     ]
    }
   ],
   "source": [
    "# don't change\n",
    "assertion('11a', has_word('you will make so much money $$$', '$$'), True)\n",
    "assertion('11b', has_word('spams may have certain words', 'SPAM'), True)\n",
    "assertion('11c', has_word('he is a senior citizen', 'old'), False)"
   ]
  },
  {
   "cell_type": "code",
   "execution_count": 37,
   "metadata": {},
   "outputs": [],
   "source": [
    "# hw 12\n",
    "import datetime\n",
    "from datetime import date\n",
    "def get_age(birth_year):\n",
    "    today = date.today()\n",
    "    age = today.year - birth_year \n",
    "    \"\"\"\n",
    "    returns the age based on current year (don't hardcode the current year)\n",
    "    \"\"\"\n",
    "   \n",
    "    return age\n"
   ]
  },
  {
   "cell_type": "code",
   "execution_count": 38,
   "metadata": {},
   "outputs": [
    {
     "name": "stdout",
     "output_type": "stream",
     "text": [
      "correct\n",
      "correct\n",
      "correct\n"
     ]
    }
   ],
   "source": [
    "# don't change\n",
    "assertion('12a', get_age(1950), 71)\n",
    "assertion('12b', get_age(1990), 31)\n",
    "assertion('12c', get_age(2020), 1)"
   ]
  },
  {
   "cell_type": "code",
   "execution_count": 39,
   "metadata": {},
   "outputs": [],
   "source": [
    "# hw 13\n",
    "import re\n",
    "\n",
    "def has_ssn(text):\n",
    "    \"\"\"\n",
    "    check if the text contains SSN (social security number) XXX-XX-XXXX\n",
    "    (use regular expressions)\n",
    "    \"\"\"\n",
    "    regex = \"\\d{3}-\\d{2}-\\d{4}\"\n",
    "    ssn = text\n",
    "    match1 = re.search(regex, ssn)\n",
    "    if match1 != None:\n",
    "         return True\n",
    "    else:\n",
    "         return False\n"
   ]
  },
  {
   "cell_type": "code",
   "execution_count": 40,
   "metadata": {},
   "outputs": [
    {
     "name": "stdout",
     "output_type": "stream",
     "text": [
      "correct\n",
      "correct\n",
      "correct\n",
      "correct\n"
     ]
    }
   ],
   "source": [
    "# don't change\n",
    "assertion('13a', has_ssn('my ssn is 123-12-1234.'), True)\n",
    "assertion('13b', has_ssn('my phone number is 443-312-1234.'), False)\n",
    "assertion('13c', has_ssn('143-12-1234 is for this patient'), True)\n",
    "assertion('13d', has_ssn('the id is 143-12-123.'), False)\n"
   ]
  },
  {
   "cell_type": "code",
   "execution_count": 41,
   "metadata": {},
   "outputs": [],
   "source": [
    "# 14 --- (sorry, you should not do anything here. this function will be used in the following codes.)\n",
    "def select_states(selector_func):\n",
    "    \"\"\"\n",
    "    selects states based on the function\n",
    "        selector_func: takes a state name and return true or false\n",
    "        \n",
    "    returns array\n",
    "    \"\"\"\n",
    "    # return [state for state in state_names if selector_func(state)] # this will give the same output\n",
    "    \n",
    "    result = []\n",
    "    for state in state_names:\n",
    "        if selector_func(state):\n",
    "            result.append(state)\n",
    "    \n",
    "    return result"
   ]
  },
  {
   "cell_type": "code",
   "execution_count": 42,
   "metadata": {},
   "outputs": [
    {
     "data": {
      "text/plain": [
       "['Idaho', 'Maine', 'Texas']"
      ]
     },
     "execution_count": 42,
     "metadata": {},
     "output_type": "execute_result"
    }
   ],
   "source": [
    "# example\n",
    "def five_letter(word):\n",
    "    if len(word) == 5:\n",
    "        return True\n",
    "    else:\n",
    "        return False\n",
    "    \n",
    "select_states(five_letter)"
   ]
  },
  {
   "cell_type": "code",
   "execution_count": 43,
   "metadata": {},
   "outputs": [
    {
     "data": {
      "text/plain": [
       "['California',\n",
       " 'Hawaii',\n",
       " 'Kansas',\n",
       " 'Massachusetts',\n",
       " 'Maryland',\n",
       " 'Maine',\n",
       " 'Washington']"
      ]
     },
     "execution_count": 43,
     "metadata": {},
     "output_type": "execute_result"
    }
   ],
   "source": [
    "# hw 15\n",
    "# write a function that checks if the second letter is 'a'\n",
    "# pass that function to select_states function\n",
    "\n",
    "def is_second_letter_a(word):\n",
    "    match = word\n",
    "    if(match[1] == 'a'):\n",
    "        return True\n",
    "\n",
    "select_states(is_second_letter_a)"
   ]
  },
  {
   "cell_type": "code",
   "execution_count": 44,
   "metadata": {},
   "outputs": [
    {
     "name": "stdout",
     "output_type": "stream",
     "text": [
      "correct\n"
     ]
    }
   ],
   "source": [
    " assertion('15a', select_states(is_second_letter_a), ['California',\n",
    " 'Hawaii',\n",
    " 'Kansas',\n",
    " 'Massachusetts',\n",
    " 'Maryland',\n",
    " 'Maine',                                                   \n",
    " 'Washington'])"
   ]
  },
  {
   "cell_type": "code",
   "execution_count": 45,
   "metadata": {},
   "outputs": [
    {
     "data": {
      "text/plain": [
       "['Kansas', 'Kentucky', 'Louisiana']"
      ]
     },
     "execution_count": 45,
     "metadata": {},
     "output_type": "execute_result"
    }
   ],
   "source": [
    "# hw 16\n",
    "# write a function that checks if the word is alfabetically in between K-M\n",
    "# pass that function to select_states function\n",
    "\n",
    "def in_between_K_M(word):\n",
    "    match1 = word\n",
    "    if(match1[0] == 'K' or match1[0] == 'L'):\n",
    "        return True\n",
    "\n",
    "select_states(in_between_K_M)"
   ]
  },
  {
   "cell_type": "code",
   "execution_count": 46,
   "metadata": {},
   "outputs": [
    {
     "name": "stdout",
     "output_type": "stream",
     "text": [
      "correct\n",
      "correct\n"
     ]
    }
   ],
   "source": [
    " assertion('16a', select_states(is_second_letter_a), ['California',\n",
    " 'Hawaii',\n",
    " 'Kansas',\n",
    " 'Massachusetts',\n",
    " 'Maryland',\n",
    " 'Maine',\n",
    " 'Washington'])\n",
    "\n",
    "assertion('16b', select_states(in_between_K_M), ['Kansas', 'Kentucky', 'Louisiana'])"
   ]
  },
  {
   "cell_type": "code",
   "execution_count": 56,
   "metadata": {},
   "outputs": [
    {
     "data": {
      "text/plain": [
       "['California']"
      ]
     },
     "execution_count": 56,
     "metadata": {},
     "output_type": "execute_result"
    }
   ],
   "source": [
    "# write an interesting function and pass it into select_states function\n",
    "def interesting_func(state):\n",
    "    slicing = state[2:5]\n",
    "    if(slicing == 'lif'):\n",
    "        return True\n",
    "\n",
    "select_states(interesting_func)"
   ]
  },
  {
   "cell_type": "code",
   "execution_count": 57,
   "metadata": {
    "scrolled": true
   },
   "outputs": [
    {
     "name": "stdout",
     "output_type": "stream",
     "text": [
      "correct\n"
     ]
    }
   ],
   "source": [
    "# hw 17 - write an assertion (replace ?? with the expected result)\n",
    "\n",
    "assertion('17a', select_states(interesting_func), ['California'])"
   ]
  },
  {
   "cell_type": "markdown",
   "metadata": {},
   "source": [
    "# Score "
   ]
  },
  {
   "cell_type": "code",
   "execution_count": 58,
   "metadata": {},
   "outputs": [
    {
     "data": {
      "text/plain": [
       "'35/36'"
      ]
     },
     "execution_count": 58,
     "metadata": {},
     "output_type": "execute_result"
    }
   ],
   "source": [
    "f'{sum(score.values())}/36'"
   ]
  },
  {
   "cell_type": "code",
   "execution_count": null,
   "metadata": {},
   "outputs": [],
   "source": []
  }
 ],
 "metadata": {
  "kernelspec": {
   "display_name": "Python 3 (ipykernel)",
   "language": "python",
   "name": "python3"
  },
  "language_info": {
   "codemirror_mode": {
    "name": "ipython",
    "version": 3
   },
   "file_extension": ".py",
   "mimetype": "text/x-python",
   "name": "python",
   "nbconvert_exporter": "python",
   "pygments_lexer": "ipython3",
   "version": "3.8.8"
  },
  "toc": {
   "base_numbering": 1,
   "nav_menu": {},
   "number_sections": true,
   "sideBar": true,
   "skip_h1_title": false,
   "title_cell": "Table of Contents",
   "title_sidebar": "Contents",
   "toc_cell": false,
   "toc_position": {},
   "toc_section_display": true,
   "toc_window_display": false
  },
  "varInspector": {
   "cols": {
    "lenName": 16,
    "lenType": 16,
    "lenVar": 40
   },
   "kernels_config": {
    "python": {
     "delete_cmd_postfix": "",
     "delete_cmd_prefix": "del ",
     "library": "var_list.py",
     "varRefreshCmd": "print(var_dic_list())"
    },
    "r": {
     "delete_cmd_postfix": ") ",
     "delete_cmd_prefix": "rm(",
     "library": "var_list.r",
     "varRefreshCmd": "cat(var_dic_list()) "
    }
   },
   "types_to_exclude": [
    "module",
    "function",
    "builtin_function_or_method",
    "instance",
    "_Feature"
   ],
   "window_display": false
  }
 },
 "nbformat": 4,
 "nbformat_minor": 2
}
